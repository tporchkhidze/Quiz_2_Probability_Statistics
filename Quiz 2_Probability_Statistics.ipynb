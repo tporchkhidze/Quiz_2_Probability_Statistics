{
 "cells": [
  {
   "cell_type": "markdown",
   "id": "edf1aed4",
   "metadata": {
    "id": "edf1aed4"
   },
   "source": [
    "## Quiz 2 - Probability, Statistics (ლექცია 4, ლექცია 5) - 7 ქულა\n",
    "\n",
    "იხილეთ LoanStatus.csv მონაცემთა ფაილი, რომელშიც მოცემულია კლიენტთა ინფორმაცია შემდეგი სვეტებით:\n",
    "\n",
    "Loan ID - კლიენტის ID\n",
    "\n",
    "Gender - სქესი\n",
    "\n",
    "Married - დაქორზინებული არის თუ არა\n",
    "\n",
    "Dependents - ოჯახის წევრების რაოდენობა, რომლის ფინანსურ მხარდაჭერასაც უზრუნველყოფს კლიენტი\n",
    "\n",
    "Education - არის თუ არა უმაღლესი განათლების მქონე\n",
    "\n",
    "Self_Employed - არის თუ არა თვითდასაქმებული\n",
    "\n",
    "ApplicantIncome - კლიენტის შემოსავალი (per month)\n",
    "\n",
    "LoanAmount  - სესხის რაოდენობა (ათასებში)\n",
    "\n",
    "Loan_Amount_Term - სესხის ვადა\n",
    "\n",
    "Credit_History - როგორი საკრედიტო ისტორია აქვს კლიენტს (1-კარგი, 0-ცუდი)\n",
    "\n",
    "Property_Area - საცხოვრებელი და სამუშაო ადგილი\n",
    "\n",
    "Loan_Status - სესხის გაცემის სტატუსი\n"
   ]
  },
  {
   "cell_type": "markdown",
   "id": "3b4fc6c6",
   "metadata": {
    "id": "3b4fc6c6"
   },
   "source": [
    "## დავალება 1: აღწერილობითი სტატისტიკა  (1 ქულა)\n",
    "ა) გახსენით ფაილი და დაბეჭდეთ აღწერილობითი სტატისტიკის მონაცემები თქვენთვის საინტერესო ველებისთვის, როგორიცაა საშუალო, მედიანა, მოდა, სტდ. გადახრა, ა.შ. (მოახდინეთ სიტყვიერი ინტერპრეტაცია);\n",
    "\n",
    "ბ) დაითვალეთ თითოეულ სვეტში ცარიელი მნიშვნელობების რაოდენობა შესაბამისი ფუნქციით"
   ]
  },
  {
   "cell_type": "code",
   "execution_count": 10,
   "id": "b786db79",
   "metadata": {
    "id": "b786db79"
   },
   "outputs": [
    {
     "data": {
      "text/html": [
       "<div>\n",
       "<style scoped>\n",
       "    .dataframe tbody tr th:only-of-type {\n",
       "        vertical-align: middle;\n",
       "    }\n",
       "\n",
       "    .dataframe tbody tr th {\n",
       "        vertical-align: top;\n",
       "    }\n",
       "\n",
       "    .dataframe thead th {\n",
       "        text-align: right;\n",
       "    }\n",
       "</style>\n",
       "<table border=\"1\" class=\"dataframe\">\n",
       "  <thead>\n",
       "    <tr style=\"text-align: right;\">\n",
       "      <th></th>\n",
       "      <th>Loan_ID</th>\n",
       "      <th>Gender</th>\n",
       "      <th>Married</th>\n",
       "      <th>Dependents</th>\n",
       "      <th>Education</th>\n",
       "      <th>Self_Employed</th>\n",
       "      <th>ApplicantIncome</th>\n",
       "      <th>LoanAmount</th>\n",
       "      <th>Loan_Amount_Term</th>\n",
       "      <th>Credit_History</th>\n",
       "      <th>Property_Area</th>\n",
       "      <th>Loan_Status</th>\n",
       "    </tr>\n",
       "  </thead>\n",
       "  <tbody>\n",
       "    <tr>\n",
       "      <th>0</th>\n",
       "      <td>LP001002</td>\n",
       "      <td>Male</td>\n",
       "      <td>No</td>\n",
       "      <td>0</td>\n",
       "      <td>Graduate</td>\n",
       "      <td>No</td>\n",
       "      <td>5849</td>\n",
       "      <td>NaN</td>\n",
       "      <td>360.0</td>\n",
       "      <td>1.0</td>\n",
       "      <td>Urban</td>\n",
       "      <td>Y</td>\n",
       "    </tr>\n",
       "    <tr>\n",
       "      <th>1</th>\n",
       "      <td>LP001003</td>\n",
       "      <td>Male</td>\n",
       "      <td>Yes</td>\n",
       "      <td>1</td>\n",
       "      <td>Graduate</td>\n",
       "      <td>No</td>\n",
       "      <td>4583</td>\n",
       "      <td>128.0</td>\n",
       "      <td>360.0</td>\n",
       "      <td>1.0</td>\n",
       "      <td>Rural</td>\n",
       "      <td>N</td>\n",
       "    </tr>\n",
       "    <tr>\n",
       "      <th>2</th>\n",
       "      <td>LP001005</td>\n",
       "      <td>Male</td>\n",
       "      <td>Yes</td>\n",
       "      <td>0</td>\n",
       "      <td>Graduate</td>\n",
       "      <td>Yes</td>\n",
       "      <td>3000</td>\n",
       "      <td>66.0</td>\n",
       "      <td>360.0</td>\n",
       "      <td>1.0</td>\n",
       "      <td>Urban</td>\n",
       "      <td>Y</td>\n",
       "    </tr>\n",
       "    <tr>\n",
       "      <th>3</th>\n",
       "      <td>LP001006</td>\n",
       "      <td>Male</td>\n",
       "      <td>Yes</td>\n",
       "      <td>0</td>\n",
       "      <td>Not Graduate</td>\n",
       "      <td>No</td>\n",
       "      <td>2583</td>\n",
       "      <td>120.0</td>\n",
       "      <td>360.0</td>\n",
       "      <td>1.0</td>\n",
       "      <td>Urban</td>\n",
       "      <td>Y</td>\n",
       "    </tr>\n",
       "    <tr>\n",
       "      <th>4</th>\n",
       "      <td>LP001008</td>\n",
       "      <td>Male</td>\n",
       "      <td>No</td>\n",
       "      <td>0</td>\n",
       "      <td>Graduate</td>\n",
       "      <td>No</td>\n",
       "      <td>6000</td>\n",
       "      <td>141.0</td>\n",
       "      <td>360.0</td>\n",
       "      <td>1.0</td>\n",
       "      <td>Urban</td>\n",
       "      <td>Y</td>\n",
       "    </tr>\n",
       "    <tr>\n",
       "      <th>5</th>\n",
       "      <td>LP001011</td>\n",
       "      <td>Male</td>\n",
       "      <td>Yes</td>\n",
       "      <td>2</td>\n",
       "      <td>Graduate</td>\n",
       "      <td>Yes</td>\n",
       "      <td>5417</td>\n",
       "      <td>267.0</td>\n",
       "      <td>360.0</td>\n",
       "      <td>1.0</td>\n",
       "      <td>Urban</td>\n",
       "      <td>Y</td>\n",
       "    </tr>\n",
       "    <tr>\n",
       "      <th>6</th>\n",
       "      <td>LP001013</td>\n",
       "      <td>Male</td>\n",
       "      <td>Yes</td>\n",
       "      <td>0</td>\n",
       "      <td>Not Graduate</td>\n",
       "      <td>No</td>\n",
       "      <td>2333</td>\n",
       "      <td>95.0</td>\n",
       "      <td>360.0</td>\n",
       "      <td>1.0</td>\n",
       "      <td>Urban</td>\n",
       "      <td>Y</td>\n",
       "    </tr>\n",
       "    <tr>\n",
       "      <th>7</th>\n",
       "      <td>LP001014</td>\n",
       "      <td>Male</td>\n",
       "      <td>Yes</td>\n",
       "      <td>3+</td>\n",
       "      <td>Graduate</td>\n",
       "      <td>No</td>\n",
       "      <td>3036</td>\n",
       "      <td>158.0</td>\n",
       "      <td>360.0</td>\n",
       "      <td>0.0</td>\n",
       "      <td>Semiurban</td>\n",
       "      <td>N</td>\n",
       "    </tr>\n",
       "    <tr>\n",
       "      <th>8</th>\n",
       "      <td>LP001018</td>\n",
       "      <td>Male</td>\n",
       "      <td>Yes</td>\n",
       "      <td>2</td>\n",
       "      <td>Graduate</td>\n",
       "      <td>No</td>\n",
       "      <td>4006</td>\n",
       "      <td>168.0</td>\n",
       "      <td>360.0</td>\n",
       "      <td>1.0</td>\n",
       "      <td>Urban</td>\n",
       "      <td>Y</td>\n",
       "    </tr>\n",
       "    <tr>\n",
       "      <th>9</th>\n",
       "      <td>LP001020</td>\n",
       "      <td>Male</td>\n",
       "      <td>Yes</td>\n",
       "      <td>1</td>\n",
       "      <td>Graduate</td>\n",
       "      <td>No</td>\n",
       "      <td>12841</td>\n",
       "      <td>349.0</td>\n",
       "      <td>360.0</td>\n",
       "      <td>1.0</td>\n",
       "      <td>Semiurban</td>\n",
       "      <td>N</td>\n",
       "    </tr>\n",
       "    <tr>\n",
       "      <th>10</th>\n",
       "      <td>LP001024</td>\n",
       "      <td>Male</td>\n",
       "      <td>Yes</td>\n",
       "      <td>2</td>\n",
       "      <td>Graduate</td>\n",
       "      <td>No</td>\n",
       "      <td>3200</td>\n",
       "      <td>70.0</td>\n",
       "      <td>360.0</td>\n",
       "      <td>1.0</td>\n",
       "      <td>Urban</td>\n",
       "      <td>Y</td>\n",
       "    </tr>\n",
       "    <tr>\n",
       "      <th>11</th>\n",
       "      <td>LP001027</td>\n",
       "      <td>Male</td>\n",
       "      <td>Yes</td>\n",
       "      <td>2</td>\n",
       "      <td>Graduate</td>\n",
       "      <td>NaN</td>\n",
       "      <td>2500</td>\n",
       "      <td>109.0</td>\n",
       "      <td>360.0</td>\n",
       "      <td>1.0</td>\n",
       "      <td>Urban</td>\n",
       "      <td>Y</td>\n",
       "    </tr>\n",
       "    <tr>\n",
       "      <th>12</th>\n",
       "      <td>LP001028</td>\n",
       "      <td>Male</td>\n",
       "      <td>Yes</td>\n",
       "      <td>2</td>\n",
       "      <td>Graduate</td>\n",
       "      <td>No</td>\n",
       "      <td>3073</td>\n",
       "      <td>200.0</td>\n",
       "      <td>360.0</td>\n",
       "      <td>1.0</td>\n",
       "      <td>Urban</td>\n",
       "      <td>Y</td>\n",
       "    </tr>\n",
       "    <tr>\n",
       "      <th>13</th>\n",
       "      <td>LP001029</td>\n",
       "      <td>Male</td>\n",
       "      <td>No</td>\n",
       "      <td>0</td>\n",
       "      <td>Graduate</td>\n",
       "      <td>No</td>\n",
       "      <td>1853</td>\n",
       "      <td>114.0</td>\n",
       "      <td>360.0</td>\n",
       "      <td>1.0</td>\n",
       "      <td>Rural</td>\n",
       "      <td>N</td>\n",
       "    </tr>\n",
       "    <tr>\n",
       "      <th>14</th>\n",
       "      <td>LP001030</td>\n",
       "      <td>Male</td>\n",
       "      <td>Yes</td>\n",
       "      <td>2</td>\n",
       "      <td>Graduate</td>\n",
       "      <td>No</td>\n",
       "      <td>1299</td>\n",
       "      <td>17.0</td>\n",
       "      <td>120.0</td>\n",
       "      <td>1.0</td>\n",
       "      <td>Urban</td>\n",
       "      <td>Y</td>\n",
       "    </tr>\n",
       "    <tr>\n",
       "      <th>15</th>\n",
       "      <td>LP001032</td>\n",
       "      <td>Male</td>\n",
       "      <td>No</td>\n",
       "      <td>0</td>\n",
       "      <td>Graduate</td>\n",
       "      <td>No</td>\n",
       "      <td>4950</td>\n",
       "      <td>125.0</td>\n",
       "      <td>360.0</td>\n",
       "      <td>1.0</td>\n",
       "      <td>Urban</td>\n",
       "      <td>Y</td>\n",
       "    </tr>\n",
       "    <tr>\n",
       "      <th>16</th>\n",
       "      <td>LP001034</td>\n",
       "      <td>Male</td>\n",
       "      <td>No</td>\n",
       "      <td>1</td>\n",
       "      <td>Not Graduate</td>\n",
       "      <td>No</td>\n",
       "      <td>3596</td>\n",
       "      <td>100.0</td>\n",
       "      <td>240.0</td>\n",
       "      <td>NaN</td>\n",
       "      <td>Urban</td>\n",
       "      <td>Y</td>\n",
       "    </tr>\n",
       "    <tr>\n",
       "      <th>17</th>\n",
       "      <td>LP001036</td>\n",
       "      <td>Female</td>\n",
       "      <td>No</td>\n",
       "      <td>0</td>\n",
       "      <td>Graduate</td>\n",
       "      <td>No</td>\n",
       "      <td>3510</td>\n",
       "      <td>76.0</td>\n",
       "      <td>360.0</td>\n",
       "      <td>0.0</td>\n",
       "      <td>Urban</td>\n",
       "      <td>N</td>\n",
       "    </tr>\n",
       "    <tr>\n",
       "      <th>18</th>\n",
       "      <td>LP001038</td>\n",
       "      <td>Male</td>\n",
       "      <td>Yes</td>\n",
       "      <td>0</td>\n",
       "      <td>Not Graduate</td>\n",
       "      <td>No</td>\n",
       "      <td>4887</td>\n",
       "      <td>133.0</td>\n",
       "      <td>360.0</td>\n",
       "      <td>1.0</td>\n",
       "      <td>Rural</td>\n",
       "      <td>N</td>\n",
       "    </tr>\n",
       "    <tr>\n",
       "      <th>19</th>\n",
       "      <td>LP001041</td>\n",
       "      <td>Male</td>\n",
       "      <td>Yes</td>\n",
       "      <td>0</td>\n",
       "      <td>Graduate</td>\n",
       "      <td>NaN</td>\n",
       "      <td>2600</td>\n",
       "      <td>115.0</td>\n",
       "      <td>NaN</td>\n",
       "      <td>1.0</td>\n",
       "      <td>Urban</td>\n",
       "      <td>Y</td>\n",
       "    </tr>\n",
       "  </tbody>\n",
       "</table>\n",
       "</div>"
      ],
      "text/plain": [
       "     Loan_ID  Gender Married Dependents     Education Self_Employed  \\\n",
       "0   LP001002    Male      No          0      Graduate            No   \n",
       "1   LP001003    Male     Yes          1      Graduate            No   \n",
       "2   LP001005    Male     Yes          0      Graduate           Yes   \n",
       "3   LP001006    Male     Yes          0  Not Graduate            No   \n",
       "4   LP001008    Male      No          0      Graduate            No   \n",
       "5   LP001011    Male     Yes          2      Graduate           Yes   \n",
       "6   LP001013    Male     Yes          0  Not Graduate            No   \n",
       "7   LP001014    Male     Yes         3+      Graduate            No   \n",
       "8   LP001018    Male     Yes          2      Graduate            No   \n",
       "9   LP001020    Male     Yes          1      Graduate            No   \n",
       "10  LP001024    Male     Yes          2      Graduate            No   \n",
       "11  LP001027    Male     Yes          2      Graduate           NaN   \n",
       "12  LP001028    Male     Yes          2      Graduate            No   \n",
       "13  LP001029    Male      No          0      Graduate            No   \n",
       "14  LP001030    Male     Yes          2      Graduate            No   \n",
       "15  LP001032    Male      No          0      Graduate            No   \n",
       "16  LP001034    Male      No          1  Not Graduate            No   \n",
       "17  LP001036  Female      No          0      Graduate            No   \n",
       "18  LP001038    Male     Yes          0  Not Graduate            No   \n",
       "19  LP001041    Male     Yes          0      Graduate           NaN   \n",
       "\n",
       "    ApplicantIncome  LoanAmount  Loan_Amount_Term  Credit_History  \\\n",
       "0              5849         NaN             360.0             1.0   \n",
       "1              4583       128.0             360.0             1.0   \n",
       "2              3000        66.0             360.0             1.0   \n",
       "3              2583       120.0             360.0             1.0   \n",
       "4              6000       141.0             360.0             1.0   \n",
       "5              5417       267.0             360.0             1.0   \n",
       "6              2333        95.0             360.0             1.0   \n",
       "7              3036       158.0             360.0             0.0   \n",
       "8              4006       168.0             360.0             1.0   \n",
       "9             12841       349.0             360.0             1.0   \n",
       "10             3200        70.0             360.0             1.0   \n",
       "11             2500       109.0             360.0             1.0   \n",
       "12             3073       200.0             360.0             1.0   \n",
       "13             1853       114.0             360.0             1.0   \n",
       "14             1299        17.0             120.0             1.0   \n",
       "15             4950       125.0             360.0             1.0   \n",
       "16             3596       100.0             240.0             NaN   \n",
       "17             3510        76.0             360.0             0.0   \n",
       "18             4887       133.0             360.0             1.0   \n",
       "19             2600       115.0               NaN             1.0   \n",
       "\n",
       "   Property_Area Loan_Status  \n",
       "0          Urban           Y  \n",
       "1          Rural           N  \n",
       "2          Urban           Y  \n",
       "3          Urban           Y  \n",
       "4          Urban           Y  \n",
       "5          Urban           Y  \n",
       "6          Urban           Y  \n",
       "7      Semiurban           N  \n",
       "8          Urban           Y  \n",
       "9      Semiurban           N  \n",
       "10         Urban           Y  \n",
       "11         Urban           Y  \n",
       "12         Urban           Y  \n",
       "13         Rural           N  \n",
       "14         Urban           Y  \n",
       "15         Urban           Y  \n",
       "16         Urban           Y  \n",
       "17         Urban           N  \n",
       "18         Rural           N  \n",
       "19         Urban           Y  "
      ]
     },
     "execution_count": 10,
     "metadata": {},
     "output_type": "execute_result"
    }
   ],
   "source": [
    "import pandas as pd\n",
    "import warnings\n",
    "df = pd.read_csv('LoanStatus.csv') #ფაილის გახსნა\n",
    "df.head(20)\n"
   ]
  },
  {
   "cell_type": "code",
   "execution_count": 76,
   "id": "1abee773",
   "metadata": {
    "id": "1abee773"
   },
   "outputs": [
    {
     "data": {
      "text/plain": [
       "0    120.0\n",
       "Name: LoanAmount, dtype: float64"
      ]
     },
     "execution_count": 76,
     "metadata": {},
     "output_type": "execute_result"
    }
   ],
   "source": [
    "df['LoanAmount'].mean() #საშუალო"
   ]
  },
  {
   "cell_type": "code",
   "execution_count": 2,
   "id": "1ad8d65e",
   "metadata": {},
   "outputs": [
    {
     "data": {
      "text/plain": [
       "85.58732523570545"
      ]
     },
     "execution_count": 2,
     "metadata": {},
     "output_type": "execute_result"
    }
   ],
   "source": [
    "df['LoanAmount'].std() # სტდ. გადახრა"
   ]
  },
  {
   "cell_type": "code",
   "execution_count": 3,
   "id": "811e7ed6",
   "metadata": {},
   "outputs": [
    {
     "data": {
      "text/plain": [
       "9.0"
      ]
     },
     "execution_count": 3,
     "metadata": {},
     "output_type": "execute_result"
    }
   ],
   "source": [
    "df['LoanAmount'].min() #მინიმალური"
   ]
  },
  {
   "cell_type": "code",
   "execution_count": 4,
   "id": "0e661cbf",
   "metadata": {},
   "outputs": [
    {
     "data": {
      "text/plain": [
       "700.0"
      ]
     },
     "execution_count": 4,
     "metadata": {},
     "output_type": "execute_result"
    }
   ],
   "source": [
    "df['LoanAmount'].max() #მაქსიმუმი"
   ]
  },
  {
   "cell_type": "code",
   "execution_count": 5,
   "id": "0aae89ae",
   "metadata": {},
   "outputs": [
    {
     "data": {
      "text/plain": [
       "128.0"
      ]
     },
     "execution_count": 5,
     "metadata": {},
     "output_type": "execute_result"
    }
   ],
   "source": [
    "df['LoanAmount'].median() #მედიანა"
   ]
  },
  {
   "cell_type": "code",
   "execution_count": 6,
   "id": "be1d1112",
   "metadata": {},
   "outputs": [
    {
     "data": {
      "text/plain": [
       "0    120.0\n",
       "Name: LoanAmount, dtype: float64"
      ]
     },
     "execution_count": 6,
     "metadata": {},
     "output_type": "execute_result"
    }
   ],
   "source": [
    "df['LoanAmount'].mode() #მოდა"
   ]
  },
  {
   "cell_type": "code",
   "execution_count": 7,
   "id": "eacde097",
   "metadata": {
    "id": "eacde097"
   },
   "outputs": [
    {
     "data": {
      "text/plain": [
       "Loan_ID              0\n",
       "Gender              13\n",
       "Married              3\n",
       "Dependents          15\n",
       "Education            0\n",
       "Self_Employed       32\n",
       "ApplicantIncome      0\n",
       "LoanAmount          22\n",
       "Loan_Amount_Term    14\n",
       "Credit_History      50\n",
       "Property_Area        0\n",
       "Loan_Status          0\n",
       "dtype: int64"
      ]
     },
     "execution_count": 7,
     "metadata": {},
     "output_type": "execute_result"
    }
   ],
   "source": [
    "df.isnull().sum()  #სვეტებში არსებული ცარიელი მნიშვნელობების რაოდენობას ითვლის"
   ]
  },
  {
   "cell_type": "markdown",
   "id": "765decd7",
   "metadata": {
    "id": "765decd7"
   },
   "source": [
    "## დავალება 2:  ალბათობა (1 ქულა)\n",
    "ა) დაითვალეთ, რა არის სესხის აღების ალბათობა Loan_Status-ის მიხედვით.\n",
    "\n",
    "ბ) რა არის სესხის აღების ალბათობა, მაშინ როცა კლიენტს კარგი საკრედიტო ისტორია აქვს.\n",
    "\n",
    "კოდს დაურთეთ თქვენი კომენტარები მოკლედ"
   ]
  },
  {
   "cell_type": "code",
   "execution_count": 8,
   "id": "98aafed8",
   "metadata": {
    "id": "98aafed8"
   },
   "outputs": [
    {
     "name": "stdout",
     "output_type": "stream",
     "text": [
      "Probability of getting a loan: 0.69\n"
     ]
    }
   ],
   "source": [
    "import pandas as pd\n",
    "\n",
    "# Loan_Status სვეტის ამოღება\n",
    "data = df['Loan_Status']\n",
    "\n",
    "df = pd.DataFrame(data)\n",
    "\n",
    "total_loans = df.shape[0]  #სესხის მთლიანი რაოდენობა\n",
    "approved_loans = df[df['Loan_Status'] == 'Y'].shape[0]  #სესხის აღების რაოდენობა\n",
    "\n",
    "probability_of_approval = approved_loans / total_loans # ითვლის სესხის აღების ალბათობა\n",
    "\n",
    "print(f\"Probability of getting a loan: {probability_of_approval:.2f}\")\n"
   ]
  },
  {
   "cell_type": "code",
   "execution_count": 11,
   "id": "b2a3f23c",
   "metadata": {
    "id": "b2a3f23c"
   },
   "outputs": [
    {
     "data": {
      "text/plain": [
       "0.8957345971563981"
      ]
     },
     "execution_count": 11,
     "metadata": {},
     "output_type": "execute_result"
    }
   ],
   "source": [
    "import pandas as pd\n",
    "\n",
    "# ფილტრავს მონაცემებს Loan_Status-ის და Credit_History-ის მიხედვით\n",
    "filter_clause = (df[\"Loan_Status\"] == \"Y\") & (df[\"Credit_History\"] == 1)\n",
    "approved_with_good_credit = df[filter_clause][\"Loan_Status\"].count()\n",
    "\n",
    "# ითვლის Loan_Status==Y რაოდენობას\n",
    "total_approved_loans = df[df[\"Loan_Status\"] == \"Y\"][\"Loan_Status\"].count()\n",
    "\n",
    "# ითვლის ალბათობას\n",
    "conditional_probability = approved_with_good_credit / total_approved_loans\n",
    "conditional_probability\n"
   ]
  },
  {
   "cell_type": "markdown",
   "id": "80eb6167",
   "metadata": {
    "id": "80eb6167"
   },
   "source": [
    "## დავალება 3: გრაფიკული წარმოდგენა (1 ქულა)\n",
    "ა) seaborn.distplot ან seaborn.histplot() ფუნქციის გამოყენებით, ააგეთ რომელიმე სვეტისთვის შესაბამისი გრაფიკი. ლინკი: https://seaborn.pydata.org/generated/seaborn.distplot.html"
   ]
  },
  {
   "cell_type": "code",
   "execution_count": 16,
   "id": "4acb2e7f",
   "metadata": {
    "id": "4acb2e7f"
   },
   "outputs": [
    {
     "data": {
      "image/png": "[encoded data removed]",
      "text/plain": [
       "<Figure size 640x480 with 1 Axes>"
      ]
     },
     "metadata": {},
     "output_type": "display_data"
    }
   ],
   "source": [
    "import numpy as np\n",
    "import matplotlib.pyplot as plt\n",
    "import seaborn as sns\n",
    "from scipy.stats import norm\n",
    "warnings.filterwarnings(\"ignore\")\n",
    "\n",
    "# ApplicantIncome სვეტის ამოღება\n",
    "column_name = df['ApplicantIncome'].head(20)\n",
    "\n",
    "# გრაფიკის აგება\n",
    "sns.distplot(column_name, kde=True)\n",
    "\n",
    "plt.show()\n"
   ]
  },
  {
   "cell_type": "markdown",
   "id": "950ec205",
   "metadata": {},
   "source": [
    "ბ) matplotlib.pyplot.hist ფუნქციის გამოყენებით, ააგეთ რომელიმე სვეტისთვის შესაბამისი ჰისტოგრამი, რომელშიც bin-ების (ჰოსტოგრამაში ბლოკების) რაოდენობას თქვენ განსაზღვრავთ (მაგ. ჰისტოგრამაში 10 სვეტად წარმოადგინოთ მონაცემები.) იხ. დოკუმენტაცია შემდეგ ლინკზე: https://matplotlib.org/stable/api/_as_gen/matplotlib.pyplot.hist.html\n",
    "\n",
    "Future warnings-ების გამოსართავად ჩაწერეთ შემდეგი ბრძანებები:\n",
    "import warnings\n",
    "warnings.filterwarnings(\"ignore\")\n",
    "\n",
    "კოდს დაურთეთ თქვენი კომენტარები მოკლედ"
   ]
  },
  {
   "cell_type": "code",
   "execution_count": 19,
   "id": "47399106",
   "metadata": {
    "id": "47399106"
   },
   "outputs": [
    {
     "data": {
      "image/png": "[encoded data removed]",
      "text/plain": [
       "<Figure size 640x480 with 1 Axes>"
      ]
     },
     "metadata": {},
     "output_type": "display_data"
    }
   ],
   "source": [
    "# ApplicantIncome სვეტის ამოღება\n",
    "column_name = df['ApplicantIncome'].head(20)\n",
    "# ჰისტოგრამის აგება, სადაც განსაზღვრულია ბინების რაოდენობა\n",
    "plt.hist(column_name, bins=10, edgecolor='black')\n",
    "plt.show()"
   ]
  },
  {
   "cell_type": "markdown",
   "id": "7331343b",
   "metadata": {
    "id": "7331343b"
   },
   "source": [
    "## დავალება 4:  კუმულაციური ალბათობა (Cumulative distribution function) - (1 ქულა)\n",
    "დაითვალეთ შემდეგი კუმულაციური ალბათობა scipy.stats.norm.cdf() ფუნქციის გამოყენებით.\n",
    "დაითვალეთ კლიენტების რამდენ პროცენტს აქვს შემოსავალი 2000 ევროზე ნაკლები ყოველთვიურად.\n",
    "norm.cdf(x, mean_val, std_dev_val) ფუნქციის პირველი პარამეტრია სასაზღვრო მნიშვნელობა, მეორე- საშუალო, მესამე -სტდ. გადახრა.\n",
    "\n",
    "#### მოახდინეთ შედეგების სიტყვიერი ინტერპრეტაცია"
   ]
  },
  {
   "cell_type": "code",
   "execution_count": 26,
   "id": "be4adcf9",
   "metadata": {
    "id": "be4adcf9"
   },
   "outputs": [],
   "source": [
    "from scipy.stats import norm"
   ]
  },
  {
   "cell_type": "code",
   "execution_count": 20,
   "id": "ea939c97",
   "metadata": {
    "id": "ea939c97"
   },
   "outputs": [
    {
     "name": "stdout",
     "output_type": "stream",
     "text": [
      "28.87%\n"
     ]
    }
   ],
   "source": [
    "mean_income = df[\"ApplicantIncome\"].mean()\n",
    "std_dev = df[\"ApplicantIncome\"].std()\n",
    "limit_value = 2000  # ზღვარის მნიშვნელობა\n",
    "\n",
    "# ითვლის კუმულაციურ ალბათობას\n",
    "percentage = norm.cdf(limit_value, mean_income, std_dev) * 100  #პროცენტის მისაღებად ვამრავლებთ 100-ზე\n",
    "\n",
    "print(f\"{percentage:.2f}%\")\n"
   ]
  },
  {
   "cell_type": "markdown",
   "id": "ab5b9a5b",
   "metadata": {
    "id": "ab5b9a5b"
   },
   "source": [
    "## დავალება 5: სტატისტიკა (1 ქულა)\n",
    "\n",
    "ააგეთ 2 boxplot დიაგრამა seaborn.boxplot() ფუნქციის გამოყენებით რომელიმე ველის მიმართ."
   ]
  },
  {
   "cell_type": "code",
   "execution_count": 22,
   "id": "60901cb8",
   "metadata": {
    "id": "60901cb8"
   },
   "outputs": [
    {
     "data": {
      "image/png": "[encoded data removed]",
      "text/plain": [
       "<Figure size 640x480 with 1 Axes>"
      ]
     },
     "metadata": {},
     "output_type": "display_data"
    }
   ],
   "source": [
    "import seaborn as sns\n",
    "import pandas as pd\n",
    "import matplotlib.pyplot as plt\n",
    "\n",
    "# csv-ის ამოღება\n",
    "dataFrame = pd.read_csv(\"LoanStatus.csv\")\n",
    "\n",
    "# აგებს boxplot დიაგრამას ApplicantIncome სვეტის მიმართ\n",
    "sns.boxplot(x=dataFrame['ApplicantIncome'])\n",
    "\n",
    "#გრაფიკის გამოჩენა\n",
    "plt.show()"
   ]
  },
  {
   "cell_type": "code",
   "execution_count": 23,
   "id": "d0d8a3bc",
   "metadata": {
    "id": "d0d8a3bc"
   },
   "outputs": [
    {
     "data": {
      "image/png": "[encoded data removed]",
      "text/plain": [
       "<Figure size 640x480 with 1 Axes>"
      ]
     },
     "metadata": {},
     "output_type": "display_data"
    }
   ],
   "source": [
    "# აგებს boxplot დიაგრამას LoanAmount სვეტის მიმართ\n",
    "sns.boxplot(x=dataFrame['LoanAmount'])\n",
    "\n",
    "#გრაფიკის გამოჩენა\n",
    "plt.show()"
   ]
  },
  {
   "cell_type": "markdown",
   "id": "4ae13cb5",
   "metadata": {
    "id": "4ae13cb5"
   },
   "source": [
    "## დავალება 6: t-test (2 ქულა)\n",
    "ა) გააკეთეთ t-test ანალიზი (One sample t-test)  რომელიმე სვეტის მიმართ და გამოიყენეთ  ttest_1samp ფუნქცია.\n",
    "\n",
    "ბ) გააკეთეთ t-test ანალიზი (Two sample t-test) რომელიმე სვეტის მიმართ და გამოიყენეთ  ttest_ind ფუნქცია.\n",
    "\n",
    "განსაზღვრეთ ნულოვანი და ალტერნატიული ჰიპოთეზა, გამოიყენეთ აღნიშნული ფუნქციები და მოახდინეთ შედეგების სიტყვიერი ინტერპრეტაცია."
   ]
  },
  {
   "cell_type": "code",
   "execution_count": 24,
   "id": "116b95c4",
   "metadata": {
    "id": "116b95c4"
   },
   "outputs": [
    {
     "name": "stdout",
     "output_type": "stream",
     "text": [
      "1.6364804093914873 0.10225234862970932\n"
     ]
    }
   ],
   "source": [
    "from scipy.stats import ttest_1samp,ttest_ind\n",
    "import scipy.stats as stats \n",
    "#აკეთებს t-test ანალიზს ApplicantIncome სვეტის მიმართ\n",
    "t_statistic, p_value = stats.ttest_1samp(a=df['ApplicantIncome'], popmean=5000) \n",
    "print(t_statistic , p_value)"
   ]
  },
  {
   "cell_type": "code",
   "execution_count": 25,
   "id": "1756aa65",
   "metadata": {},
   "outputs": [
    {
     "name": "stdout",
     "output_type": "stream",
     "text": [
      "T-statistic: -20.752139224695064\n",
      "P-value: 8.161291704552112e-82\n"
     ]
    }
   ],
   "source": [
    "# აბრუნებს მნიშვნელობებს nan-ის გარეშე\n",
    "df_clean = df.dropna(subset=['LoanAmount', 'ApplicantIncome'])\n",
    "# აკეთებს  t-test ანალიზს cleaning data-ზე, განსაზღვურლია ნულოვანი და ალტერნატიული ჰიპოთეზა\n",
    "t_stat, p_value = stats.ttest_ind(a=df_clean['LoanAmount'], b=df_clean['ApplicantIncome'], equal_var=True)\n",
    "\n",
    "print(f\"T-statistic: {t_stat}\")\n",
    "print(f\"P-value: {p_value}\")\n",
    "\n"
   ]
  },
  {
   "cell_type": "code",
   "execution_count": null,
   "id": "d949a70b",
   "metadata": {},
   "outputs": [],
   "source": []
  }
 ],
 "metadata": {
  "colab": {
   "provenance": []
  },
  "kernelspec": {
   "display_name": "Python 3 (ipykernel)",
   "language": "python",
   "name": "python3"
  },
  "language_info": {
   "codemirror_mode": {
    "name": "ipython",
    "version": 3
   },
   "file_extension": ".py",
   "mimetype": "text/x-python",
   "name": "python",
   "nbconvert_exporter": "python",
   "pygments_lexer": "ipython3",
   "version": "3.11.5"
  }
 },
 "nbformat": 4,
 "nbformat_minor": 5
}
